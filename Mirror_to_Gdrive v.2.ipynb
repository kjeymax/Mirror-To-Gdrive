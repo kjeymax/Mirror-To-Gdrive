{
  "nbformat": 4,
  "nbformat_minor": 0,
  "metadata": {
    "colab": {
      "provenance": []
    },
    "kernelspec": {
      "name": "python3",
      "display_name": "Python 3"
    },
    "language_info": {
      "name": "python"
    },
    "gpuClass": "standard",
    "widgets": {
      "application/vnd.jupyter.widget-state+json": {
        "6d4188240e424e619496dd2eb26b60e0": {
          "model_module": "@jupyter-widgets/controls",
          "model_name": "IntProgressModel",
          "model_module_version": "1.5.0",
          "state": {
            "_dom_classes": [],
            "_model_module": "@jupyter-widgets/controls",
            "_model_module_version": "1.5.0",
            "_model_name": "IntProgressModel",
            "_view_count": null,
            "_view_module": "@jupyter-widgets/controls",
            "_view_module_version": "1.5.0",
            "_view_name": "ProgressView",
            "bar_style": "info",
            "description": "Progress:",
            "description_tooltip": null,
            "layout": "IPY_MODEL_4585912900a048eb8d13ecd5cb77de35",
            "max": 100,
            "min": 0,
            "orientation": "horizontal",
            "style": "IPY_MODEL_16a5d89c70414609867fc3fb776bdb51",
            "value": 100
          }
        },
        "4585912900a048eb8d13ecd5cb77de35": {
          "model_module": "@jupyter-widgets/base",
          "model_name": "LayoutModel",
          "model_module_version": "1.2.0",
          "state": {
            "_model_module": "@jupyter-widgets/base",
            "_model_module_version": "1.2.0",
            "_model_name": "LayoutModel",
            "_view_count": null,
            "_view_module": "@jupyter-widgets/base",
            "_view_module_version": "1.2.0",
            "_view_name": "LayoutView",
            "align_content": null,
            "align_items": null,
            "align_self": null,
            "border": null,
            "bottom": null,
            "display": null,
            "flex": null,
            "flex_flow": null,
            "grid_area": null,
            "grid_auto_columns": null,
            "grid_auto_flow": null,
            "grid_auto_rows": null,
            "grid_column": null,
            "grid_gap": null,
            "grid_row": null,
            "grid_template_areas": null,
            "grid_template_columns": null,
            "grid_template_rows": null,
            "height": null,
            "justify_content": null,
            "justify_items": null,
            "left": null,
            "margin": null,
            "max_height": null,
            "max_width": null,
            "min_height": null,
            "min_width": null,
            "object_fit": null,
            "object_position": null,
            "order": null,
            "overflow": null,
            "overflow_x": null,
            "overflow_y": null,
            "padding": null,
            "right": null,
            "top": null,
            "visibility": null,
            "width": null
          }
        },
        "16a5d89c70414609867fc3fb776bdb51": {
          "model_module": "@jupyter-widgets/controls",
          "model_name": "ProgressStyleModel",
          "model_module_version": "1.5.0",
          "state": {
            "_model_module": "@jupyter-widgets/controls",
            "_model_module_version": "1.5.0",
            "_model_name": "ProgressStyleModel",
            "_view_count": null,
            "_view_module": "@jupyter-widgets/base",
            "_view_module_version": "1.2.0",
            "_view_name": "StyleView",
            "bar_color": null,
            "description_width": ""
          }
        }
      }
    }
  },
  "cells": [
    {
      "cell_type": "markdown",
      "source": [
        "# **Download Torrent files to Google Drive**"
      ],
      "metadata": {
        "id": "pYDr0qrKKQxT"
      }
    },
    {
      "cell_type": "markdown",
      "source": [
        "**install the libtorrent library**"
      ],
      "metadata": {
        "id": "muGFd2pHhptQ"
      }
    },
    {
      "cell_type": "code",
      "execution_count": null,
      "metadata": {
        "id": "yQKACsG69njJ"
      },
      "outputs": [],
      "source": [
        "!apt install python3-libtorrent\n",
        "!pip install google-colab"
      ]
    },
    {
      "cell_type": "markdown",
      "source": [
        "**Import All library**"
      ],
      "metadata": {
        "id": "j0uVUvtOhtrg"
      }
    },
    {
      "cell_type": "code",
      "source": [
        "import os\n",
        "import libtorrent as lt\n",
        "from ipywidgets import IntProgress\n",
        "from IPython.display import display\n",
        "from time import sleep\n",
        "from google.colab import drive"
      ],
      "metadata": {
        "id": "fWsXFVoeA2ec"
      },
      "execution_count": null,
      "outputs": []
    },
    {
      "cell_type": "markdown",
      "source": [
        "**Mount Gdrive**"
      ],
      "metadata": {
        "id": "Ip0OlKRTZPl5"
      }
    },
    {
      "cell_type": "code",
      "source": [
        "drive.mount('/content/gdrive')"
      ],
      "metadata": {
        "id": "cDYC3G9XA9tC",
        "colab": {
          "base_uri": "https://localhost:8080/"
        },
        "outputId": "130ef459-b0ed-4271-a798-9ecc50be78c5"
      },
      "execution_count": null,
      "outputs": [
        {
          "output_type": "stream",
          "name": "stdout",
          "text": [
            "Mounted at /content/gdrive\n"
          ]
        }
      ]
    },
    {
      "cell_type": "markdown",
      "source": [
        "**Create a session to connect to the libtorrent client**"
      ],
      "metadata": {
        "id": "mzgUerY1iPnE"
      }
    },
    {
      "cell_type": "code",
      "source": [
        "ses = lt.session()\n",
        "params = {\n",
        "    'save_path': '/content/gdrive/Shareddrives/HITECH Media/MY', # Download path\n",
        "    'storage_mode': lt.storage_mode_t(2),\n",
        "    'paused': False,\n",
        "    'auto_managed': True,\n",
        "    'duplicate_is_error': True\n",
        "}"
      ],
      "metadata": {
        "id": "rbcSSOdmBABL"
      },
      "execution_count": null,
      "outputs": []
    },
    {
      "cell_type": "markdown",
      "source": [
        "**Add torrent file url or magnet link**"
      ],
      "metadata": {
        "id": "wd7nopyviV91"
      }
    },
    {
      "cell_type": "code",
      "source": [
        "link = \"magnet:?xt=urn:btih:01FF8BE9B95215D2C55D78CCA5EA3591BC4CD9C9&dn=Mother+Fuckers+%5BMILFED+2021%5D+XXX+WEB-DL+540p+SPLIT+SCENES&tr=udp%3A%2F%2F9.rarbg.me%3A2720%2Fannounce&tr=udp%3A%2F%2F9.rarbg.to%3A2790%2Fannounce&tr=http%3A%2F%2Ftracker.trackerfix.com%3A80%2Fannounce&tr=udp%3A%2F%2Ftracker.coppersurfer.tk%3A6969%2Fannounce&tr=udp%3A%2F%2Fopen.stealth.si%3A80%2Fannounce&tr=udp%3A%2F%2Ffasttracker.foreverpirates.co%3A6969%2Fannounce&tr=udp%3A%2F%2Ftracker.internetwarriors.net%3A1337%2Fannounce&tr=udp%3A%2F%2Fexodus.desync.com%3A6969%2F&tr=udp%3A%2F%2Ftracker.openbittorrent.com%3A1337%2Fannounce&tr=udp%3A%2F%2Ftracker.opentrackr.org%3A1337%2Fannounce&tr=udp%3A%2F%2Fopentor.org%3A2710%2Fannounce&tr=udp%3A%2F%2Fopentracker.i2p.rocks%3A6969%2Fannounce&tr=udp%3A%2F%2Ftracker.zer0day.to%3A1337%2Fannounce&tr=udp%3A%2F%2Ftracker.leechers-paradise.org%3A6969%2Fannounce&tr=udp%3A%2F%2Fcoppersurfer.tk%3A6969%2Fannounce\" # Replace <magnet-link> with your magnet link"
      ],
      "metadata": {
        "id": "bW84WIA5BDfm"
      },
      "execution_count": null,
      "outputs": []
    },
    {
      "cell_type": "markdown",
      "source": [
        "**Download**"
      ],
      "metadata": {
        "id": "WwHksJ57ZmBF"
      }
    },
    {
      "cell_type": "code",
      "source": [
        "handle = lt.add_magnet_uri(ses, link, params)\n",
        "ses.listen_on(6881, 6891)\n",
        "progress_bar = IntProgress(min=0, max=100, description='Progress:', bar_style='info') # Progress bar widget\n",
        "display(progress_bar)\n",
        "\n",
        "while (not handle.has_metadata()):\n",
        "    sleep(1)\n",
        "    continue\n",
        "\n",
        "torrent_info = handle.get_torrent_info()\n",
        "\n",
        "file_size = torrent_info.total_size() # Get total size of the torrent\n",
        "num_pieces = torrent_info.num_pieces() # Get number of pieces in the torrent\n",
        "\n",
        "pieces_per_unit = 10 # Update the progress bar every 10 pieces\n",
        "units = num_pieces // pieces_per_unit\n",
        "\n",
        "for i in range(units):\n",
        "    start_piece = i * pieces_per_unit\n",
        "    end_piece = start_piece + pieces_per_unit - 1\n",
        "\n",
        "    while handle.status().num_pieces < end_piece:\n",
        "        sleep(0.1)\n",
        "        progress = int(100 * handle.status().num_pieces / num_pieces)\n",
        "        progress_bar.value = progress\n",
        "\n",
        "    if i == units - 1:\n",
        "        end_piece = num_pieces - 1\n",
        "\n",
        "    handle.set_piece_deadline(start_piece, end_piece, 0)\n",
        "    while handle.status().num_pieces < end_piece:\n",
        "        sleep(0.1)\n",
        "        progress = int(100 * handle.status().num_pieces / num_pieces)\n",
        "        progress_bar.value = progress\n",
        "\n",
        "progress_bar.value = 100 # Set the progress bar to 100% after the download completes"
      ],
      "metadata": {
        "colab": {
          "base_uri": "https://localhost:8080/",
          "height": 49,
          "referenced_widgets": [
            "6d4188240e424e619496dd2eb26b60e0",
            "4585912900a048eb8d13ecd5cb77de35",
            "16a5d89c70414609867fc3fb776bdb51"
          ]
        },
        "id": "ognWHJsGojfy",
        "outputId": "0169ad77-d558-43d2-b4c4-01c5dd3e1138"
      },
      "execution_count": null,
      "outputs": [
        {
          "output_type": "display_data",
          "data": {
            "text/plain": [
              "IntProgress(value=0, bar_style='info', description='Progress:')"
            ],
            "application/vnd.jupyter.widget-view+json": {
              "version_major": 2,
              "version_minor": 0,
              "model_id": "6d4188240e424e619496dd2eb26b60e0"
            }
          },
          "metadata": {}
        }
      ]
    }
  ]
}
