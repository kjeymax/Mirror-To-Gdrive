{
  "nbformat": 4,
  "nbformat_minor": 0,
  "metadata": {
    "colab": {
      "provenance": []
    },
    "kernelspec": {
      "name": "python3",
      "display_name": "Python 3"
    },
    "language_info": {
      "name": "python"
    }
  },
  "cells": [
    {
      "cell_type": "markdown",
      "source": [
        "**install the libtorrent library**"
      ],
      "metadata": {
        "id": "muGFd2pHhptQ"
      }
    },
    {
      "cell_type": "code",
      "execution_count": null,
      "metadata": {
        "id": "yQKACsG69njJ"
      },
      "outputs": [],
      "source": [
        "!apt-get update -qq && apt-get install -y python3-libtorrent"
      ]
    },
    {
      "cell_type": "markdown",
      "source": [
        "**Mount Gdrive**"
      ],
      "metadata": {
        "id": "j0uVUvtOhtrg"
      }
    },
    {
      "cell_type": "code",
      "source": [
        "from google.colab import drive\n",
        "drive.mount('/content/drive')"
      ],
      "metadata": {
        "id": "fWsXFVoeA2ec"
      },
      "execution_count": null,
      "outputs": []
    },
    {
      "cell_type": "markdown",
      "source": [
        "**Import the libtorrent library and create a session to connect to the libtorrent client:**"
      ],
      "metadata": {
        "id": "7vODTfnBh4J_"
      }
    },
    {
      "cell_type": "code",
      "source": [
        "import libtorrent as lt\n",
        "import time\n",
        "\n",
        "ses = lt.session()\n",
        "ses.listen_on(6881, 6891)"
      ],
      "metadata": {
        "id": "cDYC3G9XA9tC"
      },
      "execution_count": 79,
      "outputs": []
    },
    {
      "cell_type": "markdown",
      "source": [
        "**Add the torrent or magnet link to libtorrent:**"
      ],
      "metadata": {
        "id": "mzgUerY1iPnE"
      }
    },
    {
      "cell_type": "code",
      "source": [
        "torrent_url = \"magnet:?xt=urn:btih:26CCE0903475F62144E9C335FE7AB6872A0F2058&dn=Success+Coach+-+Life+Planner+v4.6.1+Premium+Mod+Apk+%5BAPKISM%5D&tr=udp%3A%2F%2Fopen.stealth.si%3A80%2Fannounce&tr=udp%3A%2F%2Fexodus.desync.com%3A6969%2Fannounce&tr=udp%3A%2F%2Ftracker.cyberia.is%3A6969%2Fannounce&tr=udp%3A%2F%2Ftracker.opentrackr.org%3A1337%2Fannounce&tr=udp%3A%2F%2Ftracker.torrent.eu.org%3A451%2Fannounce&tr=udp%3A%2F%2Fexplodie.org%3A6969%2Fannounce&tr=udp%3A%2F%2Ftracker.birkenwald.de%3A6969%2Fannounce&tr=udp%3A%2F%2Ftracker.moeking.me%3A6969%2Fannounce&tr=udp%3A%2F%2Fipv4.tracker.harry.lu%3A80%2Fannounce&tr=udp%3A%2F%2F9.rarbg.me%3A2970%2Fannounce&tr=udp%3A%2F%2Ftracker.opentrackr.org%3A1337%2Fannounce&tr=http%3A%2F%2Ftracker.openbittorrent.com%3A80%2Fannounce&tr=udp%3A%2F%2Fopentracker.i2p.rocks%3A6969%2Fannounce&tr=udp%3A%2F%2Ftracker.internetwarriors.net%3A1337%2Fannounce&tr=udp%3A%2F%2Ftracker.leechers-paradise.org%3A6969%2Fannounce&tr=udp%3A%2F%2Fcoppersurfer.tk%3A6969%2Fannounce&tr=udp%3A%2F%2Ftracker.zer0day.to%3A1337%2Fannounce\"\n",
        "destination_path = \"/content/drive/My Drive/MLTB/\"\n",
        "\n",
        "params = {\n",
        "    'save_path': destination_path,\n",
        "    'storage_mode': lt.storage_mode_t(2),\n",
        "}\n",
        "\n",
        "handle = lt.add_magnet_uri(ses, torrent_url, params)"
      ],
      "metadata": {
        "id": "rbcSSOdmBABL"
      },
      "execution_count": 81,
      "outputs": []
    },
    {
      "cell_type": "markdown",
      "source": [
        "**Wait for the file to finish downloading....**"
      ],
      "metadata": {
        "id": "wd7nopyviV91"
      }
    },
    {
      "cell_type": "code",
      "source": [
        "# Wait for the metadata to be downloaded\n",
        "print('Downloading metadata...')\n",
        "while not handle.has_metadata():\n",
        "    time.sleep(1)\n",
        "\n",
        "# Start downloading the file\n",
        "print('Starting download...')\n",
        "ses.start_dht()\n",
        "while handle.status().state != lt.torrent_status.seeding:\n",
        "    s = handle.status()\n",
        "    state_str = ['queued', 'checking', 'downloading metadata', \\\n",
        "                 'downloading', 'finished', 'seeding', 'allocating', 'checking fastresume']\n",
        "    print('%.2f%% complete (down: %.1f kb/s up: %.1f kB/s peers: %d) %s' % \\\n",
        "          (s.progress * 100, s.download_rate / 1000, s.upload_rate / 1000, s.num_peers, state_str[s.state]))\n",
        "\n",
        "    # Wait for 1 second before updating the progress bar\n",
        "    time.sleep(1)\n",
        "\n",
        "print('Download complete!')"
      ],
      "metadata": {
        "id": "bW84WIA5BDfm"
      },
      "execution_count": null,
      "outputs": []
    }
  ]
}